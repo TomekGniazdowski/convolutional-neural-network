{
  "nbformat": 4,
  "nbformat_minor": 0,
  "metadata": {
    "colab": {
      "name": "sieci_konwolucyjne.ipynb",
      "provenance": [],
      "authorship_tag": "ABX9TyMd0rKt0hIDF6Myvl0IAfA6",
      "include_colab_link": true
    },
    "kernelspec": {
      "name": "python3",
      "display_name": "Python 3"
    },
    "accelerator": "GPU"
  },
  "cells": [
    {
      "cell_type": "markdown",
      "metadata": {
        "id": "view-in-github",
        "colab_type": "text"
      },
      "source": [
        "<a href=\"https://colab.research.google.com/github/TomekGniazdowski/convolutional-neural-network/blob/main/sieci_konwolucyjne.ipynb\" target=\"_parent\"><img src=\"https://colab.research.google.com/assets/colab-badge.svg\" alt=\"Open In Colab\"/></a>"
      ]
    },
    {
      "cell_type": "code",
      "metadata": {
        "id": "Cz_AtpM7D2h3"
      },
      "source": [
        "import tensorflow as tf\r\n",
        "from tensorflow.keras import datasets, layers, models\r\n",
        "import matplotlib.pyplot as plt\r\n",
        "import numpy as np\r\n",
        "from sklearn import metrics"
      ],
      "execution_count": 3,
      "outputs": []
    },
    {
      "cell_type": "code",
      "metadata": {
        "id": "dC7RFDkBEOgk"
      },
      "source": [
        "# dane treningowe, testowe\r\n",
        "(X_train, y_train), (X_test, y_test) = datasets.cifar10.load_data()"
      ],
      "execution_count": 4,
      "outputs": []
    },
    {
      "cell_type": "code",
      "metadata": {
        "colab": {
          "base_uri": "https://localhost:8080/"
        },
        "id": "cj2vQY6DEveU",
        "outputId": "2fc908e2-58ac-4470-9511-647d2b4591ba"
      },
      "source": [
        "# X_train - 50.000 obrazów 32x32 z 3 kanałami (RGB)\r\n",
        "# y_train - wektor 50.000 elemnentów zawieracjący do jakiej klasy należy obeikt\r\n",
        "print(X_train.shape)\r\n",
        "print(y_train.shape)\r\n",
        "print(X_test.shape)\r\n",
        "print(y_test.shape)"
      ],
      "execution_count": 5,
      "outputs": [
        {
          "output_type": "stream",
          "text": [
            "(50000, 32, 32, 3)\n",
            "(50000, 1)\n",
            "(10000, 32, 32, 3)\n",
            "(10000, 1)\n"
          ],
          "name": "stdout"
        }
      ]
    },
    {
      "cell_type": "code",
      "metadata": {
        "colab": {
          "base_uri": "https://localhost:8080/"
        },
        "id": "I2y9ZxRlFIjI",
        "outputId": "9e1891d8-cb85-4346-e440-0efa0bd329fb"
      },
      "source": [
        "print(X_train[0])\r\n",
        "print(y_train[0])"
      ],
      "execution_count": 6,
      "outputs": [
        {
          "output_type": "stream",
          "text": [
            "[[[ 59  62  63]\n",
            "  [ 43  46  45]\n",
            "  [ 50  48  43]\n",
            "  ...\n",
            "  [158 132 108]\n",
            "  [152 125 102]\n",
            "  [148 124 103]]\n",
            "\n",
            " [[ 16  20  20]\n",
            "  [  0   0   0]\n",
            "  [ 18   8   0]\n",
            "  ...\n",
            "  [123  88  55]\n",
            "  [119  83  50]\n",
            "  [122  87  57]]\n",
            "\n",
            " [[ 25  24  21]\n",
            "  [ 16   7   0]\n",
            "  [ 49  27   8]\n",
            "  ...\n",
            "  [118  84  50]\n",
            "  [120  84  50]\n",
            "  [109  73  42]]\n",
            "\n",
            " ...\n",
            "\n",
            " [[208 170  96]\n",
            "  [201 153  34]\n",
            "  [198 161  26]\n",
            "  ...\n",
            "  [160 133  70]\n",
            "  [ 56  31   7]\n",
            "  [ 53  34  20]]\n",
            "\n",
            " [[180 139  96]\n",
            "  [173 123  42]\n",
            "  [186 144  30]\n",
            "  ...\n",
            "  [184 148  94]\n",
            "  [ 97  62  34]\n",
            "  [ 83  53  34]]\n",
            "\n",
            " [[177 144 116]\n",
            "  [168 129  94]\n",
            "  [179 142  87]\n",
            "  ...\n",
            "  [216 184 140]\n",
            "  [151 118  84]\n",
            "  [123  92  72]]]\n",
            "[6]\n"
          ],
          "name": "stdout"
        }
      ]
    },
    {
      "cell_type": "code",
      "metadata": {
        "colab": {
          "base_uri": "https://localhost:8080/"
        },
        "id": "ExZjph95F0Wa",
        "outputId": "8eff904e-94ae-4fc1-a69b-04ed21b5aed4"
      },
      "source": [
        "# zmiana wymiaru do wekotra\r\n",
        "y_train = y_train.reshape(-1,)\r\n",
        "y_test = y_test.reshape(-1,)\r\n",
        "print(y_train)"
      ],
      "execution_count": 7,
      "outputs": [
        {
          "output_type": "stream",
          "text": [
            "[6 9 9 ... 9 1 1]\n"
          ],
          "name": "stdout"
        }
      ]
    },
    {
      "cell_type": "code",
      "metadata": {
        "id": "RR7otYvzGJIS"
      },
      "source": [
        "# klasy obiektów\r\n",
        "classes = [\"airplane\",\"automobile\",\"bird\",\"cat\",\"deer\",\"dog\",\"frog\",\"horse\",\"ship\",\"truck\"]"
      ],
      "execution_count": 8,
      "outputs": []
    },
    {
      "cell_type": "code",
      "metadata": {
        "colab": {
          "base_uri": "https://localhost:8080/",
          "height": 543
        },
        "id": "edKVbPhiGOL3",
        "outputId": "f6cc26df-e5f6-4dfb-8839-2d515725730d"
      },
      "source": [
        "def show_image(index):\r\n",
        "  img = X_train[index]\r\n",
        "  plt.imshow(img)\r\n",
        "  plt.xlabel(classes[y_train[index]])\r\n",
        "  plt.show()\r\n",
        "\r\n",
        "show_image(1000)\r\n",
        "show_image(1100)"
      ],
      "execution_count": 9,
      "outputs": [
        {
          "output_type": "display_data",
          "data": {
            "image/png": "[encoded data removed]",
            "text/plain": [
              "<Figure size 432x288 with 1 Axes>"
            ]
          },
          "metadata": {
            "tags": [],
            "needs_background": "light"
          }
        },
        {
          "output_type": "display_data",
          "data": {
            "image/png": "[encoded data removed]",
            "text/plain": [
              "<Figure size 432x288 with 1 Axes>"
            ]
          },
          "metadata": {
            "tags": [],
            "needs_background": "light"
          }
        }
      ]
    },
    {
      "cell_type": "code",
      "metadata": {
        "id": "QPyGJPzKHJ2u"
      },
      "source": [
        "# normalizacja pikseli do zakresu 0-1\r\n",
        "X_train = X_train / 255.0\r\n",
        "X_test = X_test / 255.0"
      ],
      "execution_count": 10,
      "outputs": []
    },
    {
      "cell_type": "code",
      "metadata": {
        "colab": {
          "base_uri": "https://localhost:8080/"
        },
        "id": "_lxUjvZyJ6oN",
        "outputId": "77712fde-68ca-44c0-ca87-d6d0c8bf31f8"
      },
      "source": [
        "# model relu(3k) -> relu(1k) -> sigmoid(10)\r\n",
        "# categorical_crossentropy -> [0, 0, 0, 1, 0, 0]\r\n",
        "# sparse_categorical_crossentropy -> 4\r\n",
        "# zwykla siec neuronowa\r\n",
        "ann = models.Sequential([\r\n",
        "    layers.Flatten(input_shape = (32, 32, 3)),\r\n",
        "    layers.Dense(3000, activation='relu'),\r\n",
        "    layers.Dense(1000, activation='relu'),\r\n",
        "    layers.Dense(10, activation='sigmoid')\r\n",
        "])\r\n",
        "\r\n",
        "ann.compile(optimizer='SGD', loss='sparse_categorical_crossentropy', metrics='accuracy')\r\n",
        "ann.fit(X_train, y_train, epochs=5)"
      ],
      "execution_count": 11,
      "outputs": [
        {
          "output_type": "stream",
          "text": [
            "Epoch 1/5\n",
            "1563/1563 [==============================] - 5s 3ms/step - loss: 1.9219 - accuracy: 0.3079\n",
            "Epoch 2/5\n",
            "1563/1563 [==============================] - 5s 3ms/step - loss: 1.6496 - accuracy: 0.4178\n",
            "Epoch 3/5\n",
            "1563/1563 [==============================] - 5s 3ms/step - loss: 1.5567 - accuracy: 0.4517\n",
            "Epoch 4/5\n",
            "1563/1563 [==============================] - 5s 3ms/step - loss: 1.4910 - accuracy: 0.4764\n",
            "Epoch 5/5\n",
            "1563/1563 [==============================] - 4s 3ms/step - loss: 1.4296 - accuracy: 0.4990\n"
          ],
          "name": "stdout"
        },
        {
          "output_type": "execute_result",
          "data": {
            "text/plain": [
              "<tensorflow.python.keras.callbacks.History at 0x7fb0f045d310>"
            ]
          },
          "metadata": {
            "tags": []
          },
          "execution_count": 11
        }
      ]
    },
    {
      "cell_type": "code",
      "metadata": {
        "colab": {
          "base_uri": "https://localhost:8080/"
        },
        "id": "w798hEwFMFWe",
        "outputId": "6836ec6f-fea1-4a36-fe06-815d7d6c192b"
      },
      "source": [
        "predictions = ann.predict(X_test)\r\n",
        "# zapis predykcji do wektora\r\n",
        "predictions = [np.argmax(element) for element in predictions]\r\n",
        "print(metrics.classification_report(predictions, y_test))"
      ],
      "execution_count": 12,
      "outputs": [
        {
          "output_type": "stream",
          "text": [
            "              precision    recall  f1-score   support\n",
            "\n",
            "           0       0.57      0.51      0.54      1118\n",
            "           1       0.46      0.73      0.56       633\n",
            "           2       0.43      0.32      0.37      1344\n",
            "           3       0.16      0.38      0.23       423\n",
            "           4       0.20      0.56      0.29       354\n",
            "           5       0.59      0.29      0.39      2035\n",
            "           6       0.41      0.60      0.48       681\n",
            "           7       0.54      0.56      0.55       963\n",
            "           8       0.72      0.51      0.60      1400\n",
            "           9       0.56      0.54      0.55      1049\n",
            "\n",
            "    accuracy                           0.46     10000\n",
            "   macro avg       0.46      0.50      0.46     10000\n",
            "weighted avg       0.53      0.46      0.47     10000\n",
            "\n"
          ],
          "name": "stdout"
        }
      ]
    },
    {
      "cell_type": "code",
      "metadata": {
        "id": "S-2aI1VKMJfL"
      },
      "source": [
        "cnn = models.Sequential([\r\n",
        "                         # cnn\r\n",
        "                         layers.Conv2D(filters=32, kernel_size=(3, 3), activation = 'relu', input_shape = (32, 32, 3)),\r\n",
        "                         layers.MaxPooling2D((2, 2)),\r\n",
        "\r\n",
        "                         layers.Conv2D(filters=32, kernel_size=(3, 3), activation = 'relu', input_shape = (32, 32, 3)),\r\n",
        "                         layers.MaxPooling2D((2, 2)),\r\n",
        "\r\n",
        "                         # dense\r\n",
        "                         layers.Flatten(),\r\n",
        "                         layers.Dense(64, activation='relu'),\r\n",
        "                         layers.Dense(10, activation='softmax'),\r\n",
        "])\r\n",
        "# softmax - wyjscie znormalizowane\r\n",
        "# sigmoid - nieznormalizowane"
      ],
      "execution_count": 13,
      "outputs": []
    },
    {
      "cell_type": "code",
      "metadata": {
        "colab": {
          "base_uri": "https://localhost:8080/"
        },
        "id": "YhHFA1hzVpkp",
        "outputId": "a73f594d-0f81-43f2-f4ef-c8bde4e17a61"
      },
      "source": [
        "cnn.compile(optimizer='adam', loss='sparse_categorical_crossentropy', metrics='accuracy')\r\n",
        "cnn.fit(X_train, y_train, epochs = 10)"
      ],
      "execution_count": 14,
      "outputs": [
        {
          "output_type": "stream",
          "text": [
            "Epoch 1/10\n",
            "1563/1563 [==============================] - 7s 3ms/step - loss: 1.7528 - accuracy: 0.3618\n",
            "Epoch 2/10\n",
            "1563/1563 [==============================] - 5s 3ms/step - loss: 1.2251 - accuracy: 0.5678\n",
            "Epoch 3/10\n",
            "1563/1563 [==============================] - 5s 3ms/step - loss: 1.0865 - accuracy: 0.6174\n",
            "Epoch 4/10\n",
            "1563/1563 [==============================] - 5s 3ms/step - loss: 0.9960 - accuracy: 0.6533\n",
            "Epoch 5/10\n",
            "1563/1563 [==============================] - 5s 3ms/step - loss: 0.9459 - accuracy: 0.6699\n",
            "Epoch 6/10\n",
            "1563/1563 [==============================] - 5s 3ms/step - loss: 0.9023 - accuracy: 0.6845\n",
            "Epoch 7/10\n",
            "1563/1563 [==============================] - 5s 3ms/step - loss: 0.8364 - accuracy: 0.7077\n",
            "Epoch 8/10\n",
            "1563/1563 [==============================] - 5s 3ms/step - loss: 0.8082 - accuracy: 0.7175\n",
            "Epoch 9/10\n",
            "1563/1563 [==============================] - 5s 3ms/step - loss: 0.7736 - accuracy: 0.7269\n",
            "Epoch 10/10\n",
            "1563/1563 [==============================] - 5s 3ms/step - loss: 0.7430 - accuracy: 0.7402\n"
          ],
          "name": "stdout"
        },
        {
          "output_type": "execute_result",
          "data": {
            "text/plain": [
              "<tensorflow.python.keras.callbacks.History at 0x7fb0f03d19d0>"
            ]
          },
          "metadata": {
            "tags": []
          },
          "execution_count": 14
        }
      ]
    },
    {
      "cell_type": "code",
      "metadata": {
        "colab": {
          "base_uri": "https://localhost:8080/"
        },
        "id": "Z3y12ZMVWcs8",
        "outputId": "7ae7e9fd-c9fb-4d55-944b-2bc74a33d912"
      },
      "source": [
        "predictions_cnn = cnn.predict(X_test)\r\n",
        "predictions_cnn = [np.argmax(element) for element in predictions_cnn]\r\n",
        "print(metrics.classification_report(predictions_cnn, y_test))"
      ],
      "execution_count": 15,
      "outputs": [
        {
          "output_type": "stream",
          "text": [
            "              precision    recall  f1-score   support\n",
            "\n",
            "           0       0.76      0.66      0.71      1154\n",
            "           1       0.79      0.82      0.80       967\n",
            "           2       0.49      0.63      0.55       779\n",
            "           3       0.44      0.52      0.47       840\n",
            "           4       0.57      0.65      0.61       881\n",
            "           5       0.65      0.55      0.60      1178\n",
            "           6       0.72      0.81      0.76       886\n",
            "           7       0.81      0.64      0.71      1262\n",
            "           8       0.83      0.75      0.79      1114\n",
            "           9       0.75      0.80      0.77       939\n",
            "\n",
            "    accuracy                           0.68     10000\n",
            "   macro avg       0.68      0.68      0.68     10000\n",
            "weighted avg       0.70      0.68      0.68     10000\n",
            "\n"
          ],
          "name": "stdout"
        }
      ]
    }
  ]
}